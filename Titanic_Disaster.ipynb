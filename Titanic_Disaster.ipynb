{
  "nbformat": 4,
  "nbformat_minor": 0,
  "metadata": {
    "colab": {
      "name": "Titanic_Disaster.ipynb",
      "provenance": [],
      "collapsed_sections": [],
      "include_colab_link": true
    },
    "kernelspec": {
      "name": "python3",
      "display_name": "Python 3"
    }
  },
  "cells": [
    {
      "cell_type": "markdown",
      "metadata": {
        "id": "view-in-github",
        "colab_type": "text"
      },
      "source": [
        "<a href=\"https://colab.research.google.com/github/raphaelmendes18/kaggle-competitions/blob/master/Titanic_Disaster.ipynb\" target=\"_parent\"><img src=\"https://colab.research.google.com/assets/colab-badge.svg\" alt=\"Open In Colab\"/></a>"
      ]
    },
    {
      "cell_type": "markdown",
      "metadata": {
        "id": "DxR8YoBBy1tb",
        "colab_type": "text"
      },
      "source": [
        "### Titanic Disaster Prediction\n",
        "Author: Raphael L Mendes\n",
        "\n",
        "Accuracy: 0.77990 (November 4th)\n",
        "\n",
        "To do:\n",
        "\n",
        "1.   Creative Feature Engineering;\n",
        "2.   Grid Search;\n",
        "3.   Ensemble Models;\n",
        "\n"
      ]
    },
    {
      "cell_type": "code",
      "metadata": {
        "id": "LCNxE1ttxypW",
        "colab_type": "code",
        "outputId": "3d0a6de4-9a7f-42e0-bfdf-32aa3e985948",
        "colab": {
          "base_uri": "https://localhost:8080/",
          "height": 122
        }
      },
      "source": [
        "from google.colab import drive\n",
        "drive.mount('/content/drive')"
      ],
      "execution_count": 1,
      "outputs": [
        {
          "output_type": "stream",
          "text": [
            "Go to this URL in a browser: https://accounts.google.com/o/oauth2/auth?client_id=947318989803-6bn6qk8qdgf4n4g3pfee6491hc0brc4i.apps.googleusercontent.com&redirect_uri=urn%3Aietf%3Awg%3Aoauth%3A2.0%3Aoob&scope=email%20https%3A%2F%2Fwww.googleapis.com%2Fauth%2Fdocs.test%20https%3A%2F%2Fwww.googleapis.com%2Fauth%2Fdrive%20https%3A%2F%2Fwww.googleapis.com%2Fauth%2Fdrive.photos.readonly%20https%3A%2F%2Fwww.googleapis.com%2Fauth%2Fpeopleapi.readonly&response_type=code\n",
            "\n",
            "Enter your authorization code:\n",
            "··········\n",
            "Mounted at /content/drive\n"
          ],
          "name": "stdout"
        }
      ]
    },
    {
      "cell_type": "code",
      "metadata": {
        "id": "gWVO4WxL82WB",
        "colab_type": "code",
        "colab": {}
      },
      "source": [
        "import pandas as pd\n",
        "import matplotlib.pyplot as plt\n",
        "\n",
        "### read files\n",
        "\n",
        "train = pd.read_csv('/content/drive/My Drive/kaggle/titanic/train.csv')\n",
        "test = pd.read_csv('/content/drive/My Drive/kaggle/titanic/test.csv')\n",
        "\n",
        "train_ids = train['PassengerId']\n",
        "test_ids = test['PassengerId']\n",
        "\n",
        "### capture target variable\n",
        "y_train = train['Survived']\n",
        "\n",
        "\n"
      ],
      "execution_count": 0,
      "outputs": []
    },
    {
      "cell_type": "code",
      "metadata": {
        "id": "bi02Xr-DOt9m",
        "colab_type": "code",
        "colab": {
          "base_uri": "https://localhost:8080/",
          "height": 221
        },
        "outputId": "71e9ebec-9da6-47b9-dce9-ccc072bfe671"
      },
      "source": [
        "test_ids"
      ],
      "execution_count": 201,
      "outputs": [
        {
          "output_type": "execute_result",
          "data": {
            "text/plain": [
              "0       892\n",
              "1       893\n",
              "2       894\n",
              "3       895\n",
              "4       896\n",
              "       ... \n",
              "413    1305\n",
              "414    1306\n",
              "415    1307\n",
              "416    1308\n",
              "417    1309\n",
              "Name: PassengerId, Length: 418, dtype: int64"
            ]
          },
          "metadata": {
            "tags": []
          },
          "execution_count": 201
        }
      ]
    },
    {
      "cell_type": "markdown",
      "metadata": {
        "id": "e5ycqqpN9ixF",
        "colab_type": "text"
      },
      "source": [
        "### Let's look at the target variable\n"
      ]
    },
    {
      "cell_type": "code",
      "metadata": {
        "id": "yJc-AsQm9pRC",
        "colab_type": "code",
        "colab": {
          "base_uri": "https://localhost:8080/",
          "height": 282
        },
        "outputId": "91a2bae3-67ad-4fe9-8188-e576975951dc"
      },
      "source": [
        "y_train.hist()"
      ],
      "execution_count": 157,
      "outputs": [
        {
          "output_type": "execute_result",
          "data": {
            "text/plain": [
              "<matplotlib.axes._subplots.AxesSubplot at 0x7fb643135f28>"
            ]
          },
          "metadata": {
            "tags": []
          },
          "execution_count": 157
        },
        {
          "output_type": "display_data",
          "data": {
            "image/png": "[encoded data removed]",
            "text/plain": [
              "<Figure size 432x288 with 1 Axes>"
            ]
          },
          "metadata": {
            "tags": []
          }
        }
      ]
    },
    {
      "cell_type": "code",
      "metadata": {
        "id": "VB09iALs-AVx",
        "colab_type": "code",
        "colab": {}
      },
      "source": [
        "### concatenate train, test\n",
        "all_data = pd.concat([train.drop(columns={'Survived','PassengerId'}), test.drop(columns='PassengerId')])\n",
        "\n",
        "### Pclass Should be treated as categorical too\n",
        "\n",
        "all_data['Pclass'] = all_data['Pclass'].astype(str) \n",
        "\n",
        "### Creating new feature, family_size\n",
        "\n",
        "all_data['FamilySize'] = all_data['Parch'] + all_data['SibSp'] + 1\n",
        "all_data.loc[all_data['FamilySize']>1,'IsAlone'] = 0\n",
        "all_data.loc[all_data['FamilySize']==1,'IsAlone'] = 1\n",
        "all_data['IsAlone'] = all_data['IsAlone'].astype(str)\n",
        "### Feature Engineering from Name\n",
        "\n",
        "def parse_name(name):\n",
        "\n",
        "    if name.find('Mr.') != -1 or name.find('Don.') != -1 or name.find('Dr.') != -1 :\n",
        "        return 'Mr.'\n",
        "    elif name.find('Mrs.') != -1  or name.find('Mlle.') != -1 :\n",
        "        return 'Mrs.'\n",
        "    elif name.find('Miss.') != -1 or name.find('Mme.') != -1 or name.find('Ms.') != -1:\n",
        "        return 'Miss.'\n",
        "    elif name.find('Master.') != -1:\n",
        "        return 'Master.'\n",
        "    elif name.find('Dona.') != -1:\n",
        "        return 'Mrs.'\n",
        "    elif name.find('Rev.') != -1:\n",
        "        return 'Rev.'\n",
        "    elif name.find('Major.') != -1 or name.find('Capt.') != -1 or name.find('Col.') != -1:\n",
        "        return 'Military.'\n",
        "    elif name.find('Jonkheer.') != -1 or name.find('Lady.') != -1 or name.find('Countess.') != -1 or name.find('Sir.') != -1:\n",
        "        return 'Noble.'\n",
        "    else:\n",
        "        return name\n",
        "\n",
        "all_data['Title'] = all_data['Name'].apply(lambda x: parse_name(x))\n",
        "\n",
        "all_data = all_data.drop(columns='Name')\n",
        "\n",
        "### Check for nan\n",
        "### Columns Empty -> Cabin (0.77) and Embarked (0.001528)\n",
        "\n",
        "### Embarked has only a few nan, will use mode\n",
        "all_data['Embarked'] = all_data['Embarked'].fillna((all_data['Embarked'].mode()[0]))\n",
        "\n",
        "### Cabin has too many nan, will drop this columns\n",
        "### Drop Ticket too\n",
        "all_data = all_data.drop(columns={'Cabin','Ticket'})\n",
        "\n",
        "### Check for nan in numerical\n",
        "### Fare and Age have empty values\n",
        "all_data['Fare'] = all_data.groupby(\"Pclass\")[\"Fare\"].transform(lambda x: x.fillna(x.median()))\n",
        "all_data['Age'] = all_data.groupby(\"Title\")[\"Age\"].transform(lambda x: x.fillna(x.median()))\n",
        "\n",
        "all_data.apply(lambda x: sum(x.isna())/len(x))\n",
        "categorical_data = all_data.select_dtypes(include='object')\n",
        "numeric_data = all_data.select_dtypes(exclude='object')\n",
        "numerical_cols = numeric_data.columns\n",
        "from sklearn.preprocessing import LabelEncoder\n",
        "cols = categorical_data.columns\n",
        "# process columns, apply LabelEncoder to categorical features\n",
        "for c in cols:\n",
        "    lbl = LabelEncoder() \n",
        "    lbl.fit(list(all_data[c].values)) \n",
        "    all_data[c] = lbl.transform(list(all_data[c].values))\n",
        "\n",
        "all_data[['Pclass','Sex','Embarked','Title','IsAlone']] = all_data[['Pclass','Sex','Embarked','Title','IsAlone']].astype(str)\n",
        "\n",
        "### Test for Skewness\n",
        "from scipy.stats import skew\n",
        "from scipy.special import boxcox1p\n",
        "\n",
        "skewed_feats = all_data[numerical_cols].apply(lambda x: skew(x.dropna())).sort_values(ascending=False)\n",
        "skewness = pd.DataFrame({'Skew' :skewed_feats})\n",
        "\n",
        "skewness = skewness[abs(skewness) > 0.75]\n",
        "\n",
        "skewed_features = skewness.index\n",
        "lam = 0.15\n",
        "for feat in skewed_features:\n",
        "    all_data[feat] = boxcox1p(all_data[feat], lam)\n",
        "\n",
        "all_data_dummies = pd.get_dummies(all_data)\n",
        "\n",
        "X_train_final = all_data_dummies[:len(train_ids)].values\n",
        "X_test_final = all_data_dummies[len(train_ids):].values\n"
      ],
      "execution_count": 0,
      "outputs": []
    },
    {
      "cell_type": "code",
      "metadata": {
        "id": "YLCJM5IWFHNm",
        "colab_type": "code",
        "colab": {
          "base_uri": "https://localhost:8080/",
          "height": 68
        },
        "outputId": "633f546b-f34b-465c-d2a7-f0b6a9719a15"
      },
      "source": [
        "from sklearn.ensemble import RandomForestClassifier\n",
        "from sklearn.metrics import accuracy_score, roc_auc_score, f1_score\n",
        "from sklearn.model_selection import KFold\n",
        "import lightgbm as lgb\n",
        "import xgboost\n",
        "import numpy as np\n",
        "X = X_train_final\n",
        "\n",
        "y = train['Survived'].values\n",
        "verbose = False\n",
        "kf = KFold(n_splits=10,shuffle=True, random_state=2)\n",
        "kf.get_n_splits(X)\n",
        "fold = 0\n",
        "results = []\n",
        "\n",
        "params = {}\n",
        "params['learning_rate'] = 0.01\n",
        "params['boosting_type'] = 'gbdt'\n",
        "params['objective'] = 'binary'\n",
        "params['metric'] = 'binary_logloss'\n",
        "params['sub_feature'] = 0.5\n",
        "params['num_leaves'] = 10\n",
        "params['min_data'] = 50\n",
        "params['max_depth'] = 10\n",
        "\n",
        "rf_weight = 0\n",
        "xgb_weight = 0\n",
        "lgb_weight = 0\n",
        "\n",
        "rf_cv = []\n",
        "lgb_cv = []\n",
        "xgb_cv = []\n",
        "\n",
        "for train_index, test_index in kf.split(X):\n",
        "    X_train, X_test = X[train_index], X[test_index]\n",
        "    y_train, y_test = y[train_index], y[test_index]\n",
        "\n",
        "    rfc = RandomForestClassifier(n_estimators=500)\n",
        "    rfc.fit(X_train,y_train)\n",
        "    y_pred = rfc.predict(X_test)\n",
        "\n",
        "    d_train = lgb.Dataset(X_train, label=y_train)\n",
        "    d_valid = lgb.Dataset(X_test, label=y_test)\n",
        "    watchlist = [d_valid]\n",
        "\n",
        "    clf = lgb.train(params, d_train, 500, watchlist, verbose_eval=0)\n",
        "    lgb_y_pred_log_loss = clf.predict(X_test)\n",
        "\n",
        "    lgb_y_pred = np.zeros(len(lgb_y_pred_log_loss))\n",
        "\n",
        "    for i in range(len(lgb_y_pred)):\n",
        "        if lgb_y_pred_log_loss[i]>=.5:       # setting threshold to .5\n",
        "            lgb_y_pred[i]=1\n",
        "        else:  \n",
        "            lgb_y_pred[i]=0\n",
        "\n",
        "\n",
        "    xgbclf = xgboost.XGBClassifier(learning_rate=0.1, max_depth=5, n_estimators=500)\n",
        "    xgbclf.fit(X_train,y_train)\n",
        "    xgb_y_pred = xgbclf.predict(X_test)\n",
        "\n",
        "    fold+=1\n",
        "\n",
        "    if verbose == True:\n",
        "        print('Fold: {}.'.format(fold))\n",
        "        print('Random Forest')\n",
        "        print('Accuracy Score: {}'.format(accuracy_score(y_pred,y_test)))\n",
        "        print('F1-Score: {}'.format(f1_score(y_pred,y_test)))\n",
        "        print('ROC_Curve: {}'.format(roc_auc_score(y_pred,y_test)))\n",
        "        print('------------------------------------')\n",
        "        print('LGBM')\n",
        "        print('Accuracy Score: {}'.format(accuracy_score(lgb_y_pred,y_test)))\n",
        "        print('F1-Score: {}'.format(f1_score(lgb_y_pred,y_test)))\n",
        "        print('ROC_Curve: {}'.format(roc_auc_score(lgb_y_pred,y_test)))\n",
        "        print('------------------------------------')\n",
        "        print('XGB')\n",
        "        print('Accuracy Score: {}'.format(accuracy_score(xgb_y_pred,y_test)))\n",
        "        print('F1-Score: {}'.format(f1_score(xgb_y_pred,y_test)))\n",
        "        print('ROC_Curve: {}'.format(roc_auc_score(xgb_y_pred,y_test)))\n",
        "        print('------------------------------------')\n",
        "\n",
        "    acc_rf = accuracy_score(y_pred,y_test)\n",
        "    acc_lgb = accuracy_score(lgb_y_pred,y_test)\n",
        "    acc_xgb = accuracy_score(xgb_y_pred,y_test)\n",
        "\n",
        "    if acc_rf > acc_lgb:\n",
        "        if acc_rf > acc_xgb:\n",
        "            rf_weight += 1\n",
        "        else:\n",
        "            xgb_weight += 1\n",
        "    else:\n",
        "        if acc_lgb > acc_xgb:\n",
        "            lgb_weight += 1\n",
        "        else:\n",
        "            xgb_weight += 1\n",
        "\n",
        "    rf_cv.append(acc_rf)\n",
        "    lgb_cv.append(acc_lgb)\n",
        "    xgb_cv.append(acc_xgb)\n",
        "rf_w = (rf_weight/(rf_weight + xgb_weight + lgb_weight))\n",
        "xgb_w = (xgb_weight/(rf_weight + xgb_weight + lgb_weight))\n",
        "lgb_w = (lgb_weight/(rf_weight + xgb_weight + lgb_weight))\n",
        "\n",
        "print('Random Forest: mean ({}) - std ({})'.format(np.mean(rf_cv),np.std(rf_cv)))\n",
        "print('LGB: mean ({}) - std ({})'.format(np.mean(lgb_cv),np.std(lgb_cv)))\n",
        "print('XGB: mean ({}) - std ({})'.format(np.mean(xgb_cv),np.std(xgb_cv)))\n"
      ],
      "execution_count": 222,
      "outputs": [
        {
          "output_type": "stream",
          "text": [
            "Random Forest: mean (0.8092259675405742) - std (0.043107963433491533)\n",
            "LGB: mean (0.8283270911360798) - std (0.036335398585483764)\n",
            "XGB: mean (0.8170786516853932) - std (0.04542662029121178)\n"
          ],
          "name": "stdout"
        }
      ]
    },
    {
      "cell_type": "code",
      "metadata": {
        "id": "Ltwy2IEzZI0b",
        "colab_type": "code",
        "colab": {}
      },
      "source": [
        "rf_w = 0.2\n",
        "xgb_w = 0.3\n",
        "lgb_w = 0.5"
      ],
      "execution_count": 0,
      "outputs": []
    },
    {
      "cell_type": "code",
      "metadata": {
        "id": "sYPlz8VbX-oI",
        "colab_type": "code",
        "colab": {}
      },
      "source": [
        "rfc = RandomForestClassifier(n_estimators=500)\n",
        "rfc.fit(X,y)\n",
        "rfc_y_pred = rfc.predict(X_test_final)\n",
        "\n",
        "clf = lgb.train(params, d_train, 500, watchlist, verbose_eval=0)\n",
        "lgb_y_pred_log_loss = clf.predict(X_test_final)\n",
        "\n",
        "lgb_y_pred = np.zeros(len(lgb_y_pred_log_loss))\n",
        "\n",
        "for i in range(len(lgb_y_pred)):\n",
        "    if lgb_y_pred_log_loss[i]>=.5:       # setting threshold to .5\n",
        "        lgb_y_pred[i]=1\n",
        "    else:  \n",
        "        lgb_y_pred[i]=0\n",
        "\n",
        "\n",
        "xgbclf = xgboost.XGBClassifier(learning_rate=0.1, max_depth=5, n_estimators=500)\n",
        "xgbclf.fit(X,y)\n",
        "xgb_y_pred = xgbclf.predict(X_test_final)"
      ],
      "execution_count": 0,
      "outputs": []
    },
    {
      "cell_type": "code",
      "metadata": {
        "id": "BG3pVvtUCUOK",
        "colab_type": "code",
        "colab": {}
      },
      "source": [
        "avg_y_pred = (rf_w*rfc_y_pred + lgb_w*lgb_y_pred + xgb_w*xgb_y_pred)\n",
        "output = []\n",
        "for y_value in avg_y_pred:\n",
        "    if y_value > 0.5:\n",
        "        output.append(1)\n",
        "    else:\n",
        "        output.append(0)\n",
        "\n",
        "averaged_df = pd.DataFrame(output,columns=['Survived'])\n",
        "averaged_df.index += 892\n",
        "averaged_df.reset_index(inplace=True)\n",
        "averaged_df.rename(columns={'index':'PassengerId'},inplace=True)\n",
        "averaged_df.to_csv('/content/drive/My Drive/kaggle/titanic/averaged_output_v2.csv',index=False)"
      ],
      "execution_count": 0,
      "outputs": []
    },
    {
      "cell_type": "code",
      "metadata": {
        "id": "jHTcpjz0aPKE",
        "colab_type": "code",
        "colab": {}
      },
      "source": [
        "xgb_df = pd.DataFrame(xgb_y_pred,columns=['Survived'])\n",
        "xgb_df.index += 892\n",
        "xgb_df.reset_index(inplace=True)\n",
        "xgb_df.rename(columns={'index':'PassengerId'},inplace=True)\n",
        "xgb_df.to_csv('/content/drive/My Drive/kaggle/titanic/xgb_output_v2.csv',index=False)"
      ],
      "execution_count": 0,
      "outputs": []
    },
    {
      "cell_type": "code",
      "metadata": {
        "id": "FM5jKXtRcn7_",
        "colab_type": "code",
        "colab": {}
      },
      "source": [
        "lgb_df = pd.DataFrame(lgb_y_pred,columns=['Survived'])\n",
        "lgb_df['Survived'] = lgb_df['Survived'].astype(int)\n",
        "lgb_df.index += 892\n",
        "lgb_df.reset_index(inplace=True)\n",
        "lgb_df.rename(columns={'index':'PassengerId'},inplace=True)\n",
        "lgb_df.to_csv('/content/drive/My Drive/kaggle/titanic/lgb_output_v2.csv',index=False)"
      ],
      "execution_count": 0,
      "outputs": []
    },
    {
      "cell_type": "code",
      "metadata": {
        "id": "0IYDHkwog_Ly",
        "colab_type": "code",
        "colab": {
          "base_uri": "https://localhost:8080/",
          "height": 419
        },
        "outputId": "d33ebce7-dac0-49c9-82ea-c35fb90687e4"
      },
      "source": [
        "xgb_df"
      ],
      "execution_count": 230,
      "outputs": [
        {
          "output_type": "execute_result",
          "data": {
            "text/html": [
              "<div>\n",
              "<style scoped>\n",
              "    .dataframe tbody tr th:only-of-type {\n",
              "        vertical-align: middle;\n",
              "    }\n",
              "\n",
              "    .dataframe tbody tr th {\n",
              "        vertical-align: top;\n",
              "    }\n",
              "\n",
              "    .dataframe thead th {\n",
              "        text-align: right;\n",
              "    }\n",
              "</style>\n",
              "<table border=\"1\" class=\"dataframe\">\n",
              "  <thead>\n",
              "    <tr style=\"text-align: right;\">\n",
              "      <th></th>\n",
              "      <th>PassengerId</th>\n",
              "      <th>Survived</th>\n",
              "    </tr>\n",
              "  </thead>\n",
              "  <tbody>\n",
              "    <tr>\n",
              "      <th>0</th>\n",
              "      <td>892</td>\n",
              "      <td>0</td>\n",
              "    </tr>\n",
              "    <tr>\n",
              "      <th>1</th>\n",
              "      <td>893</td>\n",
              "      <td>0</td>\n",
              "    </tr>\n",
              "    <tr>\n",
              "      <th>2</th>\n",
              "      <td>894</td>\n",
              "      <td>0</td>\n",
              "    </tr>\n",
              "    <tr>\n",
              "      <th>3</th>\n",
              "      <td>895</td>\n",
              "      <td>0</td>\n",
              "    </tr>\n",
              "    <tr>\n",
              "      <th>4</th>\n",
              "      <td>896</td>\n",
              "      <td>1</td>\n",
              "    </tr>\n",
              "    <tr>\n",
              "      <th>...</th>\n",
              "      <td>...</td>\n",
              "      <td>...</td>\n",
              "    </tr>\n",
              "    <tr>\n",
              "      <th>413</th>\n",
              "      <td>1305</td>\n",
              "      <td>0</td>\n",
              "    </tr>\n",
              "    <tr>\n",
              "      <th>414</th>\n",
              "      <td>1306</td>\n",
              "      <td>1</td>\n",
              "    </tr>\n",
              "    <tr>\n",
              "      <th>415</th>\n",
              "      <td>1307</td>\n",
              "      <td>0</td>\n",
              "    </tr>\n",
              "    <tr>\n",
              "      <th>416</th>\n",
              "      <td>1308</td>\n",
              "      <td>0</td>\n",
              "    </tr>\n",
              "    <tr>\n",
              "      <th>417</th>\n",
              "      <td>1309</td>\n",
              "      <td>1</td>\n",
              "    </tr>\n",
              "  </tbody>\n",
              "</table>\n",
              "<p>418 rows × 2 columns</p>\n",
              "</div>"
            ],
            "text/plain": [
              "     PassengerId  Survived\n",
              "0            892         0\n",
              "1            893         0\n",
              "2            894         0\n",
              "3            895         0\n",
              "4            896         1\n",
              "..           ...       ...\n",
              "413         1305         0\n",
              "414         1306         1\n",
              "415         1307         0\n",
              "416         1308         0\n",
              "417         1309         1\n",
              "\n",
              "[418 rows x 2 columns]"
            ]
          },
          "metadata": {
            "tags": []
          },
          "execution_count": 230
        }
      ]
    }
  ]
}