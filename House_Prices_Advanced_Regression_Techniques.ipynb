{
  "nbformat": 4,
  "nbformat_minor": 0,
  "metadata": {
    "colab": {
      "name": "House_Prices_Advanced_Regression_Techniques.ipynb",
      "provenance": [],
      "collapsed_sections": [],
      "toc_visible": true,
      "include_colab_link": true
    },
    "kernelspec": {
      "name": "python3",
      "display_name": "Python 3"
    }
  },
  "cells": [
    {
      "cell_type": "markdown",
      "metadata": {
        "id": "view-in-github",
        "colab_type": "text"
      },
      "source": [
        "<a href=\"https://colab.research.google.com/github/raphaelmendes18/kaggle-competitions/blob/master/House_Prices_Advanced_Regression_Techniques.ipynb\" target=\"_parent\"><img src=\"https://colab.research.google.com/assets/colab-badge.svg\" alt=\"Open In Colab\"/></a>"
      ]
    },
    {
      "cell_type": "code",
      "metadata": {
        "id": "kqdZ_-LWoezw",
        "colab_type": "code",
        "outputId": "ebf86b88-f17d-4ff0-a909-2c5ea66a7720",
        "colab": {
          "base_uri": "https://localhost:8080/",
          "height": 122
        }
      },
      "source": [
        "from google.colab import drive\n",
        "drive.mount('/content/drive')"
      ],
      "execution_count": 1,
      "outputs": [
        {
          "output_type": "stream",
          "text": [
            "Go to this URL in a browser: https://accounts.google.com/o/oauth2/auth?client_id=947318989803-6bn6qk8qdgf4n4g3pfee6491hc0brc4i.apps.googleusercontent.com&redirect_uri=urn%3Aietf%3Awg%3Aoauth%3A2.0%3Aoob&scope=email%20https%3A%2F%2Fwww.googleapis.com%2Fauth%2Fdocs.test%20https%3A%2F%2Fwww.googleapis.com%2Fauth%2Fdrive%20https%3A%2F%2Fwww.googleapis.com%2Fauth%2Fdrive.photos.readonly%20https%3A%2F%2Fwww.googleapis.com%2Fauth%2Fpeopleapi.readonly&response_type=code\n",
            "\n",
            "Enter your authorization code:\n",
            "··········\n",
            "Mounted at /content/drive\n"
          ],
          "name": "stdout"
        }
      ]
    },
    {
      "cell_type": "markdown",
      "metadata": {
        "id": "XLCWjlzEB2gG",
        "colab_type": "text"
      },
      "source": [
        "## First Working Version (30/10/2019)\n",
        "\n",
        "Submission value: 0.18653\n",
        "\n",
        "## To do (31/10/2019)\n",
        "\n",
        "* ~~Apply Transformation in SalePrice~~ \n",
        "* ~~Apply Box Cox Transformation in high Skewness~~\n",
        "* ~~Leave Highly Correlated Variables in Training~~\n",
        "\n",
        "## To do Plus\n",
        "\n",
        "* Apply Averaged Models\n",
        "* Apply More Advanced Techniques based on Kernel: https://www.kaggle.com/serigne/stacked-regressions-top-4-on-leaderboard\n",
        "\n",
        "##### Author: Raphael L Mendes - raphael.mendes@ufu.br\n",
        "\n"
      ]
    },
    {
      "cell_type": "code",
      "metadata": {
        "id": "mdTwh7jKnyQ0",
        "colab_type": "code",
        "colab": {}
      },
      "source": [
        "import numpy as np\n",
        "import pandas as pd\n",
        "import matplotlib.pyplot as plt\n",
        "import seaborn as sns\n"
      ],
      "execution_count": 0,
      "outputs": []
    },
    {
      "cell_type": "code",
      "metadata": {
        "id": "pOvSa7JLqen1",
        "colab_type": "code",
        "colab": {}
      },
      "source": [
        "# Preprocessing\n",
        "df_train = pd.read_csv('/content/drive/My Drive/kaggle/house_prices/train.csv')\n",
        "## Remove Columns with more than 50% NaN\n",
        "cols_to_remove_nan = [c for c in df_train.columns if df_train[c].isnull().sum()/df_train.shape[0] > 0.50]\n",
        "\n",
        "## Remove Columns with too many zeroes\n",
        "cols_to_remove_zeroes = [c for c in df_train.columns if df_train[df_train[c]==0].shape[0]/df_train.shape[0] > 0.75]\n",
        "\n",
        "cols_to_remove = cols_to_remove_nan + cols_to_remove_zeroes\n",
        "\n",
        "cols_to_keep = [c for c in df_train.columns if c not in (cols_to_remove)]\n",
        "\n",
        "## Select Numeric Columns\n",
        "numerics = ['int16', 'int32', 'int64', 'float16', 'float32', 'float64']\n",
        "\n",
        "df_train_numerics = df_train[cols_to_keep].select_dtypes(include=numerics)\n",
        "\n",
        "## Identify Correlations\n",
        "data = df_train_numerics\n",
        "## generate correlation matrix\n",
        "corr = data.corr()\n",
        "\n",
        "# Will use this to remove the less correlated feature between each pair of highly correlated features to be found later on\n",
        "target_correlation = corr['SalePrice'].sort_values(ascending=False)\n",
        "\n",
        "## Ideas for Feature Engineering\n",
        "# Age = YearSold - YearBuilt \n",
        "# df_train_numerics['Age'] = df_train_numerics['YrSold'] - df_train_numerics['YearBuilt']\n",
        "\n",
        "data = df_train_numerics\n",
        "## generate correlation matrix\n",
        "corr = data.corr()\n",
        "\n",
        "high_correlated_features = []\n",
        "remove_columns_correlation = []\n",
        "for c in df_train_numerics.columns:\n",
        "    indexes = corr[corr[c] > 0.8].index\n",
        "    for i in indexes:\n",
        "        if i != c:\n",
        "            high_correlated_features.append((i,c))\n",
        "\n",
        "for feat1, feat2 in high_correlated_features:\n",
        "    if corr.loc[feat1,'SalePrice'] > corr.loc[feat2,'SalePrice']:\n",
        "        if(feat2 not in remove_columns_correlation):\n",
        "            remove_columns_correlation.append(feat2)\n",
        "    else:\n",
        "        if(feat1 not in remove_columns_correlation):\n",
        "            remove_columns_correlation.append(feat1)\n",
        "\n",
        "## Update list of columns to Remove\n",
        "cols_to_remove += remove_columns_correlation\n",
        "## Update list of columns to Keep\n",
        "cols_to_keep = [c for c in df_train.columns if c not in (cols_to_remove)]\n",
        "\n",
        "## Select Categorical Columns\n",
        "df_train_categorical = df_train[cols_to_keep].select_dtypes(include=['object'])\n",
        "\n",
        "## Find columns with too many categories\n",
        "size = df_train_categorical.shape[1]\n",
        "columns = df_train_categorical.apply(lambda x: len(x.unique())).sort_values(ascending=False)[0:size].index\n",
        "\n",
        "## Investigate\n",
        "# fig, axs = plt.subplots(size, 1, figsize=(15, size*10))\n",
        "# fig_idx = 0\n",
        "# for c in columns:\n",
        "#     box_plot_data = [df_train.loc[df_train[c]==val,'SalePrice'].values for val in df_train[c].unique() ]\n",
        "#     axs[fig_idx].boxplot(box_plot_data,vert=0, labels=df_train[c].unique())\n",
        "#     axs[fig_idx].set_title(c)\n",
        "#     fig_idx += 1\n",
        "\n",
        "# plt.show()\n",
        "\n",
        "# Column Utilities should be removed, only has one value\n",
        "cols_to_remove += ['Utilities']\n",
        "cols_to_keep = [c for c in df_train.columns if c not in cols_to_remove]\n",
        "\n",
        "## Take care of NAs\n",
        "\n",
        "df_train.loc[df_train['Fireplaces']==0,'FireplaceQu'] = 'No'\n",
        "df_train['LotFrontage'] = df_train.groupby(\"Neighborhood\")[\"LotFrontage\"].transform(lambda x: x.fillna(x.median()))\n",
        "df_train[['GarageCond','GarageType','GarageFinish','GarageQual']] = df_train[['GarageCond','GarageType','GarageFinish','GarageQual']].fillna('No')\n",
        "df_train[['BsmtFinType2','BsmtExposure','BsmtFinType1','BsmtCond','BsmtQual']] = df_train[['BsmtFinType2','BsmtExposure','BsmtFinType1','BsmtCond','BsmtQual']].fillna('No')\n",
        "df_train['MasVnrType'] = df_train['MasVnrType'].fillna('No')\n",
        "df_train['MasVnrArea'] = df_train['MasVnrArea'].fillna(0)\n",
        "df_train['TotalSF'] = df_train['TotalBsmtSF'] + df_train['1stFlrSF'] + df_train['2ndFlrSF']\n",
        "\n",
        "cols_to_keep += ['TotalSF']"
      ],
      "execution_count": 0,
      "outputs": []
    },
    {
      "cell_type": "code",
      "metadata": {
        "id": "jCUD2WS4BuRX",
        "colab_type": "code",
        "colab": {}
      },
      "source": [
        "### Data Transformations\n",
        "\n",
        "df_train = df_train[cols_to_keep]\n",
        "y = df_train['SalePrice']\n",
        "df_train.drop(columns={'SalePrice','Id'},inplace=True)\n",
        "\n",
        "numerics_df = df_train.select_dtypes(include=numerics)\n",
        "categorical = df_train.select_dtypes(include=['object'])\n",
        "\n",
        "## Identify Numerical Categorical Columns\n",
        "\n",
        "categorical_numerical = numerics_df.apply(lambda x: len(x.unique())).sort_values(ascending=False)\n",
        "categorical_numerical = categorical_numerical[categorical_numerical <=15][:].index\n",
        "categorical_numerical = [val for val in categorical_numerical if val not in ['BedroomAbvGr','KitchenAbvGr','GarageCars','BsmtFullBath','FullBath','Fireplaces']]\n",
        "\n",
        "\n",
        "## Get Dummies for Categorical Columns\n",
        "\n",
        "all_categorical = np.concatenate([categorical.columns,categorical_numerical])\n",
        "df_train[categorical_numerical] = df_train[categorical_numerical].astype(str)\n",
        "df_transformed = pd.get_dummies(df_train[all_categorical],drop_first=True)\n",
        "df_transformed['MSSubClass_150'] = 0\n",
        "numerics_df = df_train.select_dtypes(include=numerics) \n",
        "\n",
        "## Scale Numerical Columns\n",
        "from sklearn.preprocessing import StandardScaler, MinMaxScaler\n",
        "\n",
        "ss = StandardScaler()\n",
        "# ss = MinMaxScaler()\n",
        "ss.fit(numerics_df)\n",
        "\n",
        "df_numeric_transformed = ss.transform(numerics_df)\n",
        "\n",
        "final_train = np.column_stack((df_numeric_transformed,df_transformed.values))"
      ],
      "execution_count": 0,
      "outputs": []
    },
    {
      "cell_type": "code",
      "metadata": {
        "id": "IwSTinSTuGdx",
        "colab_type": "code",
        "colab": {}
      },
      "source": [
        "## Test Data\n",
        "cols_to_keep = [c for c in cols_to_keep if c!='SalePrice']\n",
        "df_test = pd.read_csv('/content/drive/My Drive/kaggle/house_prices/test.csv')\n",
        "\n",
        "## New Feature\n",
        "df_test['TotalSF'] = df_test['TotalBsmtSF'] + df_test['1stFlrSF'] + df_test['2ndFlrSF']\n",
        "\n",
        "df_test = df_test[cols_to_keep]\n",
        "df_test.drop(columns={'Id'},inplace=True)\n",
        "\n",
        "## Adjust NaN\n",
        "df_test.loc[df_test['Fireplaces']==0,'FireplaceQu'] = 'No'\n",
        "df_test['LotFrontage'] = df_test.groupby(\"Neighborhood\")[\"LotFrontage\"].transform(lambda x: x.fillna(x.median()))\n",
        "df_test[['GarageCond','GarageType','GarageFinish','GarageQual']] = df_test[['GarageCond','GarageType','GarageFinish','GarageQual']].fillna('No')\n",
        "df_test[['BsmtFinType2','BsmtExposure','BsmtFinType1','BsmtCond','BsmtQual']] = df_test[['BsmtFinType2','BsmtExposure','BsmtFinType1','BsmtCond','BsmtQual']].fillna('No')\n",
        "df_test['MasVnrType'] = df_test['MasVnrType'].fillna('No')\n",
        "df_test['MasVnrArea'] = df_test['MasVnrArea'].fillna(0)\n",
        "\n",
        "\n",
        "\n",
        "df_test[categorical_numerical] = df_test[categorical_numerical].fillna(0)\n",
        "\n",
        "# df_test[cols_to_keep].select_dtypes(include=numerics) = df_test[cols_to_keep].select_dtypes(include=numerics).fillna(0)\n",
        "df_test[categorical_numerical] = df_test[categorical_numerical].astype(str)\n",
        "df_test_transformed = pd.get_dummies(df_test[all_categorical],drop_first=True)\n",
        "\n",
        "numerics_test_df = df_test.select_dtypes(include=numerics)\n",
        "numerics_test_df = numerics_test_df.fillna(0)\n",
        "\n",
        "df_numeric_test_transformed = ss.transform(numerics_test_df)\n",
        "\n",
        "## Fixing missing columns in get_dummies\n",
        "for c in df_transformed.columns:\n",
        "    if c not in df_test_transformed.columns:\n",
        "        df_test_transformed[c] = 0\n",
        "\n",
        "final_test = np.column_stack((df_numeric_test_transformed,df_test_transformed.values))"
      ],
      "execution_count": 0,
      "outputs": []
    },
    {
      "cell_type": "code",
      "metadata": {
        "id": "Aai0WUyAumlz",
        "colab_type": "code",
        "outputId": "f26fe37c-75de-437c-cd14-1347e5832126",
        "colab": {
          "base_uri": "https://localhost:8080/",
          "height": 734
        }
      },
      "source": [
        "### Select Models\n",
        "\n",
        "from sklearn.ensemble import RandomForestRegressor \n",
        "from sklearn.neural_network import MLPRegressor\n",
        "from sklearn.model_selection import KFold\n",
        "from sklearn.metrics import mean_squared_log_error,mean_squared_error\n",
        "import lightgbm as lgb\n",
        "\n",
        "params = {\n",
        "    'boosting_type': 'gbdt',\n",
        "    'objective': 'regression',\n",
        "    'metric': {'rmlse'},\n",
        "    'num_leaves': 60,\n",
        "    'learning_rate': 0.05,\n",
        "    'feature_fraction': 0.9,\n",
        "    'bagging_fraction': 0.8,\n",
        "    'bagging_freq': 5,\n",
        "    'verbose': 0\n",
        "}\n",
        "\n",
        "n_estimators = 100\n",
        "\n",
        "rfr = RandomForestRegressor(n_estimators = 100)\n",
        "# mlr = MLPRegressor(hidden_layer_sizes=(30, 3),max_iter=1000)\n",
        "X = np.nan_to_num(final_train)\n",
        "kf = KFold(n_splits=10,shuffle=True, random_state=2)\n",
        "kf.get_n_splits(X)\n",
        "fold = 0\n",
        "results = []\n",
        "\n",
        "for train_index, test_index in kf.split(X):\n",
        "    X_train, X_test = X[train_index], X[test_index]\n",
        "    y_train, y_test = y[train_index], y[test_index]\n",
        "\n",
        "    d_train = lgb.Dataset(X_train, label=y_train)\n",
        "    d_valid = lgb.Dataset(X_test, label=y_test)\n",
        "    watchlist = [d_valid]\n",
        "\n",
        "    lgb_model = lgb.train(params, d_train, n_estimators, watchlist, verbose_eval=1)\n",
        "    rfr.fit(X_train, y_train)\n",
        "    # mlr.fit(X_train, y_train)\n",
        "\n",
        "    rfr_y_pred = rfr.predict(X_test)\n",
        "    # mlr_y_pred = mlr.predict(X_test)\n",
        "    lgbm_y_pred = lgb_model.predict(X_test)\n",
        "\n",
        "    fold += 1\n",
        "    print('Random Forest Regressor')\n",
        "    print('FOLD: {} - RMLSE: {}'.format(fold,np.sqrt(mean_squared_log_error( y_test, rfr_y_pred ))))\n",
        "    print('LGBM Regressor')\n",
        "    print('FOLD: {} - RMLSE: {}'.format(fold,np.sqrt(mean_squared_log_error( y_test, lgbm_y_pred ))))\n",
        "    results.append([np.sqrt(mean_squared_log_error( y_test, rfr_y_pred )),np.sqrt(mean_squared_log_error( y_test, lgbm_y_pred ))])\n",
        "# print('Mean: {} std: {}'.format(np.mean(results), np.std(results)))\n",
        "\n",
        "'''\n",
        "FOLD: 1 - RMSE: 33447.7470221955\n",
        "FOLD: 2 - RMSE: 26461.84551420078\n",
        "FOLD: 3 - RMSE: 47848.611452681704\n",
        "FOLD: 4 - RMSE: 23193.730215083506\n",
        "FOLD: 5 - RMSE: 35547.480546581515\n",
        "FOLD: 6 - RMSE: 27351.656316595305\n",
        "FOLD: 7 - RMSE: 23910.190923121834\n",
        "FOLD: 8 - RMSE: 22770.093361547337\n",
        "FOLD: 9 - RMSE: 31718.23580741277\n",
        "FOLD: 10 - RMSE: 20708.2812451745\n",
        "MEAN: 29324.40\n",
        "STD:7541.17\n",
        "'''\n",
        "\n",
        "# from keras.models import Sequential\n",
        "# from keras.layers import Dense\n",
        "# from keras.wrappers.scikit_learn import KerasRegressor\n",
        "# from sklearn.model_selection import cross_val_score\n",
        "# from sklearn.pipeline import Pipeline\n",
        "\n",
        "\n",
        "# def root_mean_squared_log_error(y_true, y_pred):\n",
        "#         return np.sqrt(mean_squared_log_error( y_true, y_pred ))\n",
        "\n",
        "# def root_mean_squared_error(y_true, y_pred):\n",
        "#         return K.sqrt(K.mean(K.square(y_pred - y_true)))       \n",
        "\n",
        "# # define base model\n",
        "# def baseline_model():\n",
        "# \t# create model\n",
        "#     model = Sequential()\n",
        "#     model.add(Dense(X.shape[1], input_dim=X.shape[1], kernel_initializer='normal', activation='relu'))\n",
        "#     model.add(Dense(32, kernel_initializer='normal', activation='relu'))\n",
        "#     model.add(Dense(1, kernel_initializer='normal'))\n",
        "#     # Compile model\n",
        "#     model.compile(loss=root_mean_squared_error, optimizer='adam')\n",
        "#     return model\n",
        "\n",
        "# estimator = KerasRegressor(build_fn=baseline_model, epochs=100, batch_size=8, verbose=True)\n",
        "# kfold = KFold(n_splits=2)\n",
        "# results = cross_val_score(estimator, X, y, cv=kfold)\n",
        "# print(\"Baseline: %.2f (%.2f) RMSE\" % (results.mean(), results.std()))\n"
      ],
      "execution_count": 0,
      "outputs": [
        {
          "output_type": "stream",
          "text": [
            "Random Forest Regressor\n",
            "FOLD: 1 - RMLSE: 0.14905008283820145\n",
            "LGBM Regressor\n",
            "FOLD: 1 - RMLSE: 0.14085382256757198\n",
            "Random Forest Regressor\n",
            "FOLD: 2 - RMLSE: 0.1641639872698573\n",
            "LGBM Regressor\n",
            "FOLD: 2 - RMLSE: 0.15416287976073217\n",
            "Random Forest Regressor\n",
            "FOLD: 3 - RMLSE: 0.18836927080579735\n",
            "LGBM Regressor\n",
            "FOLD: 3 - RMLSE: 0.16999715906089743\n",
            "Random Forest Regressor\n",
            "FOLD: 4 - RMLSE: 0.14505146244123396\n",
            "LGBM Regressor\n",
            "FOLD: 4 - RMLSE: 0.13229077363229205\n",
            "Random Forest Regressor\n",
            "FOLD: 5 - RMLSE: 0.1320268411260973\n",
            "LGBM Regressor\n",
            "FOLD: 5 - RMLSE: 0.12545310498614246\n",
            "Random Forest Regressor\n",
            "FOLD: 6 - RMLSE: 0.16291558545048554\n",
            "LGBM Regressor\n",
            "FOLD: 6 - RMLSE: 0.14564808489922568\n",
            "Random Forest Regressor\n",
            "FOLD: 7 - RMLSE: 0.14515573954989372\n",
            "LGBM Regressor\n",
            "FOLD: 7 - RMLSE: 0.13490961091652975\n",
            "Random Forest Regressor\n",
            "FOLD: 8 - RMLSE: 0.13704605598541506\n",
            "LGBM Regressor\n",
            "FOLD: 8 - RMLSE: 0.13982482779855962\n",
            "Random Forest Regressor\n",
            "FOLD: 9 - RMLSE: 0.1477707285448784\n",
            "LGBM Regressor\n",
            "FOLD: 9 - RMLSE: 0.13359499491008975\n",
            "Random Forest Regressor\n",
            "FOLD: 10 - RMLSE: 0.1130185964635036\n",
            "LGBM Regressor\n",
            "FOLD: 10 - RMLSE: 0.10456002247809269\n"
          ],
          "name": "stdout"
        },
        {
          "output_type": "execute_result",
          "data": {
            "text/plain": [
              "'\\nFOLD: 1 - RMSE: 33447.7470221955\\nFOLD: 2 - RMSE: 26461.84551420078\\nFOLD: 3 - RMSE: 47848.611452681704\\nFOLD: 4 - RMSE: 23193.730215083506\\nFOLD: 5 - RMSE: 35547.480546581515\\nFOLD: 6 - RMSE: 27351.656316595305\\nFOLD: 7 - RMSE: 23910.190923121834\\nFOLD: 8 - RMSE: 22770.093361547337\\nFOLD: 9 - RMSE: 31718.23580741277\\nFOLD: 10 - RMSE: 20708.2812451745\\nMEAN: 29324.40\\nSTD:7541.17\\n'"
            ]
          },
          "metadata": {
            "tags": []
          },
          "execution_count": 584
        }
      ]
    },
    {
      "cell_type": "code",
      "metadata": {
        "id": "7LqGKU7ZS12g",
        "colab_type": "code",
        "outputId": "01aa4030-2638-488e-bbd4-54b443c1ef97",
        "colab": {
          "base_uri": "https://localhost:8080/",
          "height": 136
        }
      },
      "source": [
        "d_x = lgb.Dataset(X, label=y)\n",
        "lgb_model = lgb.train(params, d_x, n_estimators, verbose_eval=1)\n",
        "rfr.fit(X,y)"
      ],
      "execution_count": 0,
      "outputs": [
        {
          "output_type": "execute_result",
          "data": {
            "text/plain": [
              "RandomForestRegressor(bootstrap=True, criterion='mse', max_depth=None,\n",
              "                      max_features='auto', max_leaf_nodes=None,\n",
              "                      min_impurity_decrease=0.0, min_impurity_split=None,\n",
              "                      min_samples_leaf=1, min_samples_split=2,\n",
              "                      min_weight_fraction_leaf=0.0, n_estimators=100,\n",
              "                      n_jobs=None, oob_score=False, random_state=None,\n",
              "                      verbose=0, warm_start=False)"
            ]
          },
          "metadata": {
            "tags": []
          },
          "execution_count": 585
        }
      ]
    },
    {
      "cell_type": "code",
      "metadata": {
        "id": "_VR0bZc5rYbB",
        "colab_type": "code",
        "colab": {}
      },
      "source": [
        "lgbm_pred = lgb_model.predict(final_test)\n",
        "rfr_pred = rfr.predict(final_test)"
      ],
      "execution_count": 0,
      "outputs": []
    },
    {
      "cell_type": "code",
      "metadata": {
        "id": "JFo-lUi-ttrX",
        "colab_type": "code",
        "colab": {}
      },
      "source": [
        "lgbm_df = pd.DataFrame(lgbm_pred,columns=['SalePrice'])\n",
        "lgbm_df.index += 1461\n",
        "lgbm_df.reset_index(inplace=True)\n",
        "lgbm_df.rename(columns={'index':'Id'},inplace=True)\n",
        "rfr_df = pd.DataFrame(rfr_pred,columns=['SalePrice'])\n",
        "rfr_df.index += 1461\n",
        "rfr_df.reset_index(inplace=True)\n",
        "rfr_df.rename(columns={'index':'Id'},inplace=True)\n",
        "lgbm_df.to_csv('/content/drive/My Drive/kaggle/house_prices/lgbm_output.csv',index=False)\n",
        "rfr_df.to_csv('/content/drive/My Drive/kaggle/house_prices/rfr_output.csv',index=False)\n",
        "\n"
      ],
      "execution_count": 0,
      "outputs": []
    },
    {
      "cell_type": "markdown",
      "metadata": {
        "id": "OUYyMqNIrhZq",
        "colab_type": "text"
      },
      "source": [
        "### Submission #2\n"
      ]
    },
    {
      "cell_type": "code",
      "metadata": {
        "id": "VekkWvXJrlnz",
        "colab_type": "code",
        "colab": {}
      },
      "source": [
        "import numpy as np\n",
        "import pandas as pd\n",
        "import matplotlib.pyplot as plt\n",
        "import seaborn as sns\n",
        "\n",
        "\n",
        "df_train = pd.read_csv('/content/drive/My Drive/kaggle/house_prices/train.csv')\n",
        "df_test = pd.read_csv('/content/drive/My Drive/kaggle/house_prices/test.csv')\n",
        "\n",
        "train_ID = df_train['Id']\n",
        "test_ID = df_test['Id']\n",
        "\n",
        "y = np.log1p(df_train['SalePrice']).values\n",
        "df_train.drop(columns={'SalePrice'}, inplace=True)\n",
        "\n",
        "all_data = pd.concat([df_train,df_test],sort=False)\n",
        "all_data.drop(columns={'Id'}, inplace=True)\n",
        "\n",
        "## remove Missing Values\n",
        "\n",
        "missing_data = all_data.apply(lambda x: (x.isnull().sum()/len(x))*100).sort_values(ascending=False)\n",
        "\n",
        "missing_data = missing_data[missing_data > 0]\n",
        "\n",
        "fill_none = ['PoolQC','MiscFeature','Alley','Fence','GarageCond','GarageQual','GarageFinish','GarageType','BsmtExposure','BsmtQual','BsmtFinType1','BsmtFinType2','MasVnrType','KitchenQual','FireplaceQu','BsmtCond']\n",
        "for c in fill_none:\n",
        "    all_data[c] = all_data[c].fillna('None')\n",
        "\n",
        "fill_zeroes = ['GarageYrBlt', 'GarageArea', 'GarageCars','MasVnrArea','BsmtHalfBath','BsmtFullBath','BsmtFinSF1','BsmtFinSF2','BsmtUnfSF','TotalBsmtSF']\n",
        "\n",
        "for c in fill_zeroes:\n",
        "    all_data[c] = all_data[c].fillna(0)\n",
        "\n",
        "fill_mode = ['Utilities','MSZoning','SaleType','Electrical','Exterior1st','Exterior2nd']\n",
        "\n",
        "for c in fill_mode:\n",
        "    all_data[c] = all_data[c].fillna(all_data[c].mode()[0])\n",
        "\n",
        "## Other Columns\n",
        "all_data[\"Functional\"] = all_data[\"Functional\"].fillna(\"Typ\")\n",
        "all_data.drop(columns={'Utilities'},inplace=True)\n",
        "all_data[\"LotFrontage\"] = all_data.groupby(\"Neighborhood\")[\"LotFrontage\"].transform(lambda x: x.fillna(x.median()))\n",
        "\n",
        "### Create categorical columns\n",
        "\n",
        "#MSSubClass=The building class\n",
        "all_data['MSSubClass'] = all_data['MSSubClass'].astype(str)\n",
        "\n",
        "#Changing OverallCond into a categorical variable\n",
        "all_data['OverallCond'] = all_data['OverallCond'].astype(str)\n",
        "\n",
        "#Year and month sold are transformed into categorical features.\n",
        "all_data['YrSold'] = all_data['YrSold'].astype(str)\n",
        "all_data['MoSold'] = all_data['MoSold'].astype(str)\n",
        "\n",
        "# Adding total sqfootage feature \n",
        "all_data['TotalSF'] = all_data['TotalBsmtSF'] + all_data['1stFlrSF'] + all_data['2ndFlrSF']\n",
        "\n",
        "from sklearn.preprocessing import LabelEncoder\n",
        "cols = ('FireplaceQu', 'BsmtQual', 'BsmtCond', 'GarageQual', 'GarageCond', \n",
        "        'ExterQual', 'ExterCond','HeatingQC', 'PoolQC', 'KitchenQual', 'BsmtFinType1', \n",
        "        'BsmtFinType2', 'Functional', 'Fence', 'BsmtExposure', 'GarageFinish', 'LandSlope',\n",
        "        'LotShape', 'PavedDrive', 'Street', 'Alley', 'CentralAir', 'MSSubClass', 'OverallCond', \n",
        "        'YrSold', 'MoSold')\n",
        "# process columns, apply LabelEncoder to categorical features\n",
        "for c in cols:\n",
        "    lbl = LabelEncoder() \n",
        "    lbl.fit(list(all_data[c].values)) \n",
        "    all_data[c] = lbl.transform(list(all_data[c].values))\n",
        "\n",
        "categorical = all_data.select_dtypes(include='object').columns\n",
        "numerical = all_data.select_dtypes(exclude='object').columns\n",
        "\n",
        "from scipy.special import boxcox1p\n",
        "from scipy.stats import skew\n",
        "\n",
        "skewed_feats = all_data[numerical].apply(lambda x: skew(x.dropna())).sort_values(ascending=False)\n",
        "skewness = pd.DataFrame({'Skew' :skewed_feats})\n",
        "\n",
        "skewness = skewness[abs(skewness) > 0.75]\n",
        "\n",
        "skewed_features = skewness.index\n",
        "lam = 0.15\n",
        "for feat in skewed_features:\n",
        "    all_data[feat] = boxcox1p(all_data[feat], lam)\n",
        "\n",
        "all_data = pd.get_dummies(all_data)\n",
        "\n",
        "train = all_data[:len(train_ID)].values\n",
        "test = all_data[len(train_ID):].values\n"
      ],
      "execution_count": 0,
      "outputs": []
    },
    {
      "cell_type": "code",
      "metadata": {
        "id": "Yrr8SK-SvPSC",
        "colab_type": "code",
        "colab": {
          "base_uri": "https://localhost:8080/",
          "height": 1000
        },
        "outputId": "57de076a-0108-44ba-eaa7-59b657d290d1"
      },
      "source": [
        "### Select Models\n",
        "\n",
        "from sklearn.ensemble import RandomForestRegressor \n",
        "from sklearn.neural_network import MLPRegressor\n",
        "from sklearn.model_selection import KFold\n",
        "from sklearn.metrics import mean_squared_log_error,mean_squared_error\n",
        "import lightgbm as lgb\n",
        "\n",
        "params = {\n",
        "    'boosting_type': 'gbdt',\n",
        "    'objective': 'regression',\n",
        "    'metric': {'rmlse'},\n",
        "    'num_leaves': 60,\n",
        "    'learning_rate': 0.05,\n",
        "    'feature_fraction': 0.9,\n",
        "    'bagging_fraction': 0.8,\n",
        "    'bagging_freq': 5,\n",
        "    'verbose': 0\n",
        "}\n",
        "\n",
        "n_estimators = 100\n",
        "\n",
        "rfr = RandomForestRegressor(n_estimators = 250)\n",
        "# mlr = MLPRegressor(hidden_layer_sizes=(30, 3),max_iter=1000)\n",
        "X = np.nan_to_num(train)\n",
        "kf = KFold(n_splits=10,shuffle=True, random_state=2)\n",
        "kf.get_n_splits(X)\n",
        "fold = 0\n",
        "results = []\n",
        "\n",
        "for train_index, test_index in kf.split(X):\n",
        "    X_train, X_test = X[train_index], X[test_index]\n",
        "    y_train, y_test = y[train_index], y[test_index]\n",
        "\n",
        "    d_train = lgb.Dataset(X_train, label=y_train)\n",
        "    d_valid = lgb.Dataset(X_test, label=y_test)\n",
        "    watchlist = [d_valid]\n",
        "\n",
        "    lgb_model = lgb.train(params, d_train, n_estimators, watchlist, verbose_eval=1)\n",
        "    rfr.fit(X_train, y_train)\n",
        "    # mlr.fit(X_train, y_train)\n",
        "\n",
        "    rfr_y_pred = rfr.predict(X_test)\n",
        "    # mlr_y_pred = mlr.predict(X_test)\n",
        "    lgbm_y_pred = lgb_model.predict(X_test)\n",
        "\n",
        "    fold += 1\n",
        "    print('Random Forest Regressor')\n",
        "    print('FOLD: {} - RMLSE: {}'.format(fold,np.sqrt(mean_squared_log_error( y_test, rfr_y_pred ))))\n",
        "    print('LGBM Regressor')\n",
        "    print('FOLD: {} - RMLSE: {}'.format(fold,np.sqrt(mean_squared_log_error( y_test, lgbm_y_pred ))))\n",
        "    print('Combined')\n",
        "    print('FOLD: {} - RMLSE: {}'.format(fold,np.sqrt(mean_squared_log_error( y_test, 0.75*lgbm_y_pred + 0.25*rfr_y_pred ))))"
      ],
      "execution_count": 122,
      "outputs": [
        {
          "output_type": "stream",
          "text": [
            "Random Forest Regressor\n",
            "FOLD: 1 - RMLSE: 0.01052699216352836\n",
            "LGBM Regressor\n",
            "FOLD: 1 - RMLSE: 0.009385668989981742\n",
            "Combined\n",
            "FOLD: 1 - RMLSE: 0.009523314198435657\n",
            "Random Forest Regressor\n",
            "FOLD: 2 - RMLSE: 0.012310427724853325\n",
            "LGBM Regressor\n",
            "FOLD: 2 - RMLSE: 0.010937071260982166\n",
            "Combined\n",
            "FOLD: 2 - RMLSE: 0.011160296511907345\n",
            "Random Forest Regressor\n",
            "FOLD: 3 - RMLSE: 0.013837271281225715\n",
            "LGBM Regressor\n",
            "FOLD: 3 - RMLSE: 0.012695613215337792\n",
            "Combined\n",
            "FOLD: 3 - RMLSE: 0.012892727069073438\n",
            "Random Forest Regressor\n",
            "FOLD: 4 - RMLSE: 0.010351972566835675\n",
            "LGBM Regressor\n",
            "FOLD: 4 - RMLSE: 0.010040818458290631\n",
            "Combined\n",
            "FOLD: 4 - RMLSE: 0.009936583246730095\n",
            "Random Forest Regressor\n",
            "FOLD: 5 - RMLSE: 0.010085669490461642\n",
            "LGBM Regressor\n",
            "FOLD: 5 - RMLSE: 0.009339454533708135\n",
            "Combined\n",
            "FOLD: 5 - RMLSE: 0.009340094930923548\n",
            "Random Forest Regressor\n",
            "FOLD: 6 - RMLSE: 0.011520726982929537\n",
            "LGBM Regressor\n",
            "FOLD: 6 - RMLSE: 0.010699690136105127\n",
            "Combined\n",
            "FOLD: 6 - RMLSE: 0.010776625862532453\n",
            "Random Forest Regressor\n",
            "FOLD: 7 - RMLSE: 0.011329735907118669\n",
            "LGBM Regressor\n",
            "FOLD: 7 - RMLSE: 0.010294070871665747\n",
            "Combined\n",
            "FOLD: 7 - RMLSE: 0.010417496035967075\n",
            "Random Forest Regressor\n",
            "FOLD: 8 - RMLSE: 0.010282874094264238\n",
            "LGBM Regressor\n",
            "FOLD: 8 - RMLSE: 0.011191759756737118\n",
            "Combined\n",
            "FOLD: 8 - RMLSE: 0.010792292253567638\n",
            "Random Forest Regressor\n",
            "FOLD: 9 - RMLSE: 0.011522475627885408\n",
            "LGBM Regressor\n",
            "FOLD: 9 - RMLSE: 0.0099190993372666\n",
            "Combined\n",
            "FOLD: 9 - RMLSE: 0.010173229254798074\n",
            "Random Forest Regressor\n",
            "FOLD: 10 - RMLSE: 0.009026365977875022\n",
            "LGBM Regressor\n",
            "FOLD: 10 - RMLSE: 0.008180316051448209\n",
            "Combined\n",
            "FOLD: 10 - RMLSE: 0.008283071918095356\n"
          ],
          "name": "stdout"
        }
      ]
    },
    {
      "cell_type": "code",
      "metadata": {
        "id": "MXxcxPS4zI8N",
        "colab_type": "code",
        "colab": {
          "base_uri": "https://localhost:8080/",
          "height": 136
        },
        "outputId": "ddbf7c0d-e321-4479-f547-c10fea670c57"
      },
      "source": [
        "d_x = lgb.Dataset(X, label=y)\n",
        "lgb_model = lgb.train(params, d_x, n_estimators, verbose_eval=1)\n",
        "rfr.fit(X,y)"
      ],
      "execution_count": 109,
      "outputs": [
        {
          "output_type": "execute_result",
          "data": {
            "text/plain": [
              "RandomForestRegressor(bootstrap=True, criterion='mse', max_depth=None,\n",
              "                      max_features='auto', max_leaf_nodes=None,\n",
              "                      min_impurity_decrease=0.0, min_impurity_split=None,\n",
              "                      min_samples_leaf=1, min_samples_split=2,\n",
              "                      min_weight_fraction_leaf=0.0, n_estimators=250,\n",
              "                      n_jobs=None, oob_score=False, random_state=None,\n",
              "                      verbose=0, warm_start=False)"
            ]
          },
          "metadata": {
            "tags": []
          },
          "execution_count": 109
        }
      ]
    },
    {
      "cell_type": "code",
      "metadata": {
        "id": "RkWPCYxW5M7X",
        "colab_type": "code",
        "colab": {}
      },
      "source": [
        "# lgbm_pred = np.expm1(lgb_model.predict(test))\n",
        "# rfr_pred = np.expm1(rfr.predict(test))\n",
        "combined_pred = 0.75*lgbm_pred + 0.25*rfr_pred"
      ],
      "execution_count": 0,
      "outputs": []
    },
    {
      "cell_type": "code",
      "metadata": {
        "id": "Hv4OvTtm5ZZX",
        "colab_type": "code",
        "colab": {}
      },
      "source": [
        "lgbm_df = pd.DataFrame(lgbm_pred,columns=['SalePrice'])\n",
        "lgbm_df.index += 1461\n",
        "lgbm_df.reset_index(inplace=True)\n",
        "lgbm_df.rename(columns={'index':'Id'},inplace=True)\n",
        "rfr_df = pd.DataFrame(rfr_pred,columns=['SalePrice'])\n",
        "rfr_df.index += 1461\n",
        "rfr_df.reset_index(inplace=True)\n",
        "rfr_df.rename(columns={'index':'Id'},inplace=True)\n",
        "combined_df = pd.DataFrame(combined_pred,columns=['SalePrice'])\n",
        "combined_df.index += 1461\n",
        "combined_df.reset_index(inplace=True)\n",
        "combined_df.rename(columns={'index':'Id'},inplace=True)\n",
        "\n",
        "\n",
        "# lgbm_df.to_csv('/content/drive/My Drive/kaggle/house_prices/lgbm_output_v2.csv',index=False)\n",
        "# rfr_df.to_csv('/content/drive/My Drive/kaggle/house_prices/rfr_output_v2.csv',index=False)\n",
        "combined_df.to_csv('/content/drive/My Drive/kaggle/house_prices/combined_output_v2.csv',index=False)\n"
      ],
      "execution_count": 0,
      "outputs": []
    },
    {
      "cell_type": "code",
      "metadata": {
        "id": "aVe4HjF55i3i",
        "colab_type": "code",
        "colab": {
          "base_uri": "https://localhost:8080/",
          "height": 282
        },
        "outputId": "07ee5d7f-e9b5-49c0-b056-8a74e1bbc740"
      },
      "source": [
        "plt.scatter(rfr_pred,lgbm_pred,c='blue')\n",
        "# plt.scatter(rfr_pred,rfr_pred,c='green')\n"
      ],
      "execution_count": 121,
      "outputs": [
        {
          "output_type": "execute_result",
          "data": {
            "text/plain": [
              "<matplotlib.collections.PathCollection at 0x7f13cf1be3c8>"
            ]
          },
          "metadata": {
            "tags": []
          },
          "execution_count": 121
        },
        {
          "output_type": "display_data",
          "data": {
            "image/png": "[encoded data removed]",
            "text/plain": [
              "<Figure size 432x288 with 1 Axes>"
            ]
          },
          "metadata": {
            "tags": []
          }
        }
      ]
    }
  ]
}